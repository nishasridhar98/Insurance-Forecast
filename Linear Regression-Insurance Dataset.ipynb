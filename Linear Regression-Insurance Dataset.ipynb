{
 "cells": [
  {
   "cell_type": "code",
   "execution_count": 88,
   "metadata": {},
   "outputs": [],
   "source": [
    "import numpy as np\n",
    "import pandas as pd\n",
    "import matplotlib.pyplot as plt\n",
    "\n",
    "from sklearn.model_selection import train_test_split\n",
    "from sklearn import preprocessing"
   ]
  },
  {
   "cell_type": "code",
   "execution_count": 89,
   "metadata": {},
   "outputs": [],
   "source": [
    "data = pd.read_csv(\"insurance.csv\")"
   ]
  },
  {
   "cell_type": "code",
   "execution_count": 90,
   "metadata": {},
   "outputs": [
    {
     "data": {
      "text/html": [
       "<div>\n",
       "<style scoped>\n",
       "    .dataframe tbody tr th:only-of-type {\n",
       "        vertical-align: middle;\n",
       "    }\n",
       "\n",
       "    .dataframe tbody tr th {\n",
       "        vertical-align: top;\n",
       "    }\n",
       "\n",
       "    .dataframe thead th {\n",
       "        text-align: right;\n",
       "    }\n",
       "</style>\n",
       "<table border=\"1\" class=\"dataframe\">\n",
       "  <thead>\n",
       "    <tr style=\"text-align: right;\">\n",
       "      <th></th>\n",
       "      <th>age</th>\n",
       "      <th>sex</th>\n",
       "      <th>bmi</th>\n",
       "      <th>children</th>\n",
       "      <th>smoker</th>\n",
       "      <th>region</th>\n",
       "      <th>charges</th>\n",
       "    </tr>\n",
       "  </thead>\n",
       "  <tbody>\n",
       "    <tr>\n",
       "      <th>0</th>\n",
       "      <td>19</td>\n",
       "      <td>female</td>\n",
       "      <td>27.900</td>\n",
       "      <td>0</td>\n",
       "      <td>yes</td>\n",
       "      <td>southwest</td>\n",
       "      <td>16884.92400</td>\n",
       "    </tr>\n",
       "    <tr>\n",
       "      <th>1</th>\n",
       "      <td>18</td>\n",
       "      <td>male</td>\n",
       "      <td>33.770</td>\n",
       "      <td>1</td>\n",
       "      <td>no</td>\n",
       "      <td>southeast</td>\n",
       "      <td>1725.55230</td>\n",
       "    </tr>\n",
       "    <tr>\n",
       "      <th>2</th>\n",
       "      <td>28</td>\n",
       "      <td>male</td>\n",
       "      <td>33.000</td>\n",
       "      <td>3</td>\n",
       "      <td>no</td>\n",
       "      <td>southeast</td>\n",
       "      <td>4449.46200</td>\n",
       "    </tr>\n",
       "    <tr>\n",
       "      <th>3</th>\n",
       "      <td>33</td>\n",
       "      <td>male</td>\n",
       "      <td>22.705</td>\n",
       "      <td>0</td>\n",
       "      <td>no</td>\n",
       "      <td>northwest</td>\n",
       "      <td>21984.47061</td>\n",
       "    </tr>\n",
       "    <tr>\n",
       "      <th>4</th>\n",
       "      <td>32</td>\n",
       "      <td>male</td>\n",
       "      <td>28.880</td>\n",
       "      <td>0</td>\n",
       "      <td>no</td>\n",
       "      <td>northwest</td>\n",
       "      <td>3866.85520</td>\n",
       "    </tr>\n",
       "  </tbody>\n",
       "</table>\n",
       "</div>"
      ],
      "text/plain": [
       "   age     sex     bmi  children smoker     region      charges\n",
       "0   19  female  27.900         0    yes  southwest  16884.92400\n",
       "1   18    male  33.770         1     no  southeast   1725.55230\n",
       "2   28    male  33.000         3     no  southeast   4449.46200\n",
       "3   33    male  22.705         0     no  northwest  21984.47061\n",
       "4   32    male  28.880         0     no  northwest   3866.85520"
      ]
     },
     "execution_count": 90,
     "metadata": {},
     "output_type": "execute_result"
    }
   ],
   "source": [
    "data.head()"
   ]
  },
  {
   "cell_type": "code",
   "execution_count": 91,
   "metadata": {},
   "outputs": [
    {
     "data": {
      "text/plain": [
       "0    574\n",
       "1    324\n",
       "2    240\n",
       "3    157\n",
       "4     25\n",
       "5     18\n",
       "Name: children, dtype: int64"
      ]
     },
     "execution_count": 91,
     "metadata": {},
     "output_type": "execute_result"
    }
   ],
   "source": [
    "data.children.value_counts()"
   ]
  },
  {
   "cell_type": "code",
   "execution_count": 92,
   "metadata": {},
   "outputs": [
    {
     "data": {
      "text/plain": [
       "no     1064\n",
       "yes     274\n",
       "Name: smoker, dtype: int64"
      ]
     },
     "execution_count": 92,
     "metadata": {},
     "output_type": "execute_result"
    }
   ],
   "source": [
    "data.smoker.value_counts()"
   ]
  },
  {
   "cell_type": "code",
   "execution_count": 93,
   "metadata": {},
   "outputs": [],
   "source": [
    "# data.age.value_counts()"
   ]
  },
  {
   "cell_type": "code",
   "execution_count": 94,
   "metadata": {},
   "outputs": [],
   "source": [
    "le=preprocessing.LabelEncoder() #to convert smoker col to int"
   ]
  },
  {
   "cell_type": "code",
   "execution_count": 95,
   "metadata": {},
   "outputs": [
    {
     "data": {
      "text/plain": [
       "LabelEncoder()"
      ]
     },
     "execution_count": 95,
     "metadata": {},
     "output_type": "execute_result"
    }
   ],
   "source": [
    "a=le.fit(data['smoker'])\n",
    "a"
   ]
  },
  {
   "cell_type": "code",
   "execution_count": 96,
   "metadata": {},
   "outputs": [],
   "source": [
    "data['smoker']=le.transform(data['smoker'])"
   ]
  },
  {
   "cell_type": "code",
   "execution_count": 97,
   "metadata": {},
   "outputs": [
    {
     "data": {
      "text/html": [
       "<div>\n",
       "<style scoped>\n",
       "    .dataframe tbody tr th:only-of-type {\n",
       "        vertical-align: middle;\n",
       "    }\n",
       "\n",
       "    .dataframe tbody tr th {\n",
       "        vertical-align: top;\n",
       "    }\n",
       "\n",
       "    .dataframe thead th {\n",
       "        text-align: right;\n",
       "    }\n",
       "</style>\n",
       "<table border=\"1\" class=\"dataframe\">\n",
       "  <thead>\n",
       "    <tr style=\"text-align: right;\">\n",
       "      <th></th>\n",
       "      <th>age</th>\n",
       "      <th>bmi</th>\n",
       "      <th>children</th>\n",
       "      <th>smoker</th>\n",
       "      <th>charges</th>\n",
       "      <th>sex_female</th>\n",
       "      <th>sex_male</th>\n",
       "      <th>region_northeast</th>\n",
       "      <th>region_northwest</th>\n",
       "      <th>region_southeast</th>\n",
       "      <th>region_southwest</th>\n",
       "    </tr>\n",
       "  </thead>\n",
       "  <tbody>\n",
       "    <tr>\n",
       "      <th>0</th>\n",
       "      <td>19</td>\n",
       "      <td>27.900</td>\n",
       "      <td>0</td>\n",
       "      <td>1</td>\n",
       "      <td>16884.92400</td>\n",
       "      <td>1</td>\n",
       "      <td>0</td>\n",
       "      <td>0</td>\n",
       "      <td>0</td>\n",
       "      <td>0</td>\n",
       "      <td>1</td>\n",
       "    </tr>\n",
       "    <tr>\n",
       "      <th>1</th>\n",
       "      <td>18</td>\n",
       "      <td>33.770</td>\n",
       "      <td>1</td>\n",
       "      <td>0</td>\n",
       "      <td>1725.55230</td>\n",
       "      <td>0</td>\n",
       "      <td>1</td>\n",
       "      <td>0</td>\n",
       "      <td>0</td>\n",
       "      <td>1</td>\n",
       "      <td>0</td>\n",
       "    </tr>\n",
       "    <tr>\n",
       "      <th>2</th>\n",
       "      <td>28</td>\n",
       "      <td>33.000</td>\n",
       "      <td>3</td>\n",
       "      <td>0</td>\n",
       "      <td>4449.46200</td>\n",
       "      <td>0</td>\n",
       "      <td>1</td>\n",
       "      <td>0</td>\n",
       "      <td>0</td>\n",
       "      <td>1</td>\n",
       "      <td>0</td>\n",
       "    </tr>\n",
       "    <tr>\n",
       "      <th>3</th>\n",
       "      <td>33</td>\n",
       "      <td>22.705</td>\n",
       "      <td>0</td>\n",
       "      <td>0</td>\n",
       "      <td>21984.47061</td>\n",
       "      <td>0</td>\n",
       "      <td>1</td>\n",
       "      <td>0</td>\n",
       "      <td>1</td>\n",
       "      <td>0</td>\n",
       "      <td>0</td>\n",
       "    </tr>\n",
       "    <tr>\n",
       "      <th>4</th>\n",
       "      <td>32</td>\n",
       "      <td>28.880</td>\n",
       "      <td>0</td>\n",
       "      <td>0</td>\n",
       "      <td>3866.85520</td>\n",
       "      <td>0</td>\n",
       "      <td>1</td>\n",
       "      <td>0</td>\n",
       "      <td>1</td>\n",
       "      <td>0</td>\n",
       "      <td>0</td>\n",
       "    </tr>\n",
       "    <tr>\n",
       "      <th>5</th>\n",
       "      <td>31</td>\n",
       "      <td>25.740</td>\n",
       "      <td>0</td>\n",
       "      <td>0</td>\n",
       "      <td>3756.62160</td>\n",
       "      <td>1</td>\n",
       "      <td>0</td>\n",
       "      <td>0</td>\n",
       "      <td>0</td>\n",
       "      <td>1</td>\n",
       "      <td>0</td>\n",
       "    </tr>\n",
       "    <tr>\n",
       "      <th>6</th>\n",
       "      <td>46</td>\n",
       "      <td>33.440</td>\n",
       "      <td>1</td>\n",
       "      <td>0</td>\n",
       "      <td>8240.58960</td>\n",
       "      <td>1</td>\n",
       "      <td>0</td>\n",
       "      <td>0</td>\n",
       "      <td>0</td>\n",
       "      <td>1</td>\n",
       "      <td>0</td>\n",
       "    </tr>\n",
       "    <tr>\n",
       "      <th>7</th>\n",
       "      <td>37</td>\n",
       "      <td>27.740</td>\n",
       "      <td>3</td>\n",
       "      <td>0</td>\n",
       "      <td>7281.50560</td>\n",
       "      <td>1</td>\n",
       "      <td>0</td>\n",
       "      <td>0</td>\n",
       "      <td>1</td>\n",
       "      <td>0</td>\n",
       "      <td>0</td>\n",
       "    </tr>\n",
       "    <tr>\n",
       "      <th>8</th>\n",
       "      <td>37</td>\n",
       "      <td>29.830</td>\n",
       "      <td>2</td>\n",
       "      <td>0</td>\n",
       "      <td>6406.41070</td>\n",
       "      <td>0</td>\n",
       "      <td>1</td>\n",
       "      <td>1</td>\n",
       "      <td>0</td>\n",
       "      <td>0</td>\n",
       "      <td>0</td>\n",
       "    </tr>\n",
       "    <tr>\n",
       "      <th>9</th>\n",
       "      <td>60</td>\n",
       "      <td>25.840</td>\n",
       "      <td>0</td>\n",
       "      <td>0</td>\n",
       "      <td>28923.13692</td>\n",
       "      <td>1</td>\n",
       "      <td>0</td>\n",
       "      <td>0</td>\n",
       "      <td>1</td>\n",
       "      <td>0</td>\n",
       "      <td>0</td>\n",
       "    </tr>\n",
       "  </tbody>\n",
       "</table>\n",
       "</div>"
      ],
      "text/plain": [
       "   age     bmi  children  smoker      charges  sex_female  sex_male  \\\n",
       "0   19  27.900         0       1  16884.92400           1         0   \n",
       "1   18  33.770         1       0   1725.55230           0         1   \n",
       "2   28  33.000         3       0   4449.46200           0         1   \n",
       "3   33  22.705         0       0  21984.47061           0         1   \n",
       "4   32  28.880         0       0   3866.85520           0         1   \n",
       "5   31  25.740         0       0   3756.62160           1         0   \n",
       "6   46  33.440         1       0   8240.58960           1         0   \n",
       "7   37  27.740         3       0   7281.50560           1         0   \n",
       "8   37  29.830         2       0   6406.41070           0         1   \n",
       "9   60  25.840         0       0  28923.13692           1         0   \n",
       "\n",
       "   region_northeast  region_northwest  region_southeast  region_southwest  \n",
       "0                 0                 0                 0                 1  \n",
       "1                 0                 0                 1                 0  \n",
       "2                 0                 0                 1                 0  \n",
       "3                 0                 1                 0                 0  \n",
       "4                 0                 1                 0                 0  \n",
       "5                 0                 0                 1                 0  \n",
       "6                 0                 0                 1                 0  \n",
       "7                 0                 1                 0                 0  \n",
       "8                 1                 0                 0                 0  \n",
       "9                 0                 1                 0                 0  "
      ]
     },
     "execution_count": 97,
     "metadata": {},
     "output_type": "execute_result"
    }
   ],
   "source": [
    "d=pd.get_dummies(data)\n",
    "d.head(10)"
   ]
  },
  {
   "cell_type": "code",
   "execution_count": 100,
   "metadata": {},
   "outputs": [
    {
     "data": {
      "text/plain": [
       "region_northeast    0.006349\n",
       "region_northwest    0.039905\n",
       "region_southwest    0.043210\n",
       "sex_male            0.057292\n",
       "sex_female          0.057292\n",
       "children            0.067998\n",
       "region_southeast    0.073982\n",
       "bmi                 0.198341\n",
       "age                 0.299008\n",
       "smoker              0.787251\n",
       "charges             1.000000\n",
       "Name: charges, dtype: float64"
      ]
     },
     "execution_count": 100,
     "metadata": {},
     "output_type": "execute_result"
    }
   ],
   "source": [
    "correlation=d.corr('pearson')\n",
    "abs(correlation['charges']).sort_values()"
   ]
  },
  {
   "cell_type": "code",
   "execution_count": 101,
   "metadata": {},
   "outputs": [],
   "source": [
    "d=(d-d.min())/(d.max()-d.min())"
   ]
  },
  {
   "cell_type": "code",
   "execution_count": 105,
   "metadata": {},
   "outputs": [],
   "source": [
    "#Using 4 features--> bmi,children,age,smoker,charges\n",
    "x1= np.array(d['bmi'])\n",
    "x2=np.array(d['children'])\n",
    "x3=np.array(d['age'])\n",
    "x4=np.array(d['smoker'])\n",
    "y= np.array(d['charges'])"
   ]
  },
  {
   "cell_type": "code",
   "execution_count": 106,
   "metadata": {},
   "outputs": [],
   "source": [
    "x1train,x1test,x2train,x2test,x3train,x3test,x4train,x4test,ytrain,ytest= train_test_split(x1,x2,x3,x4,y,test_size=0.2)"
   ]
  },
  {
   "cell_type": "code",
   "execution_count": 104,
   "metadata": {},
   "outputs": [
    {
     "data": {
      "text/plain": [
       "1070"
      ]
     },
     "execution_count": 104,
     "metadata": {},
     "output_type": "execute_result"
    }
   ],
   "source": [
    "len(x1train)"
   ]
  },
  {
   "cell_type": "code",
   "execution_count": 72,
   "metadata": {},
   "outputs": [],
   "source": [
    "def hypothesis(a,x1,b,x2,c,x3,d,x4,e):\n",
    "    return a * x1 +b * x2 + c * x3 + d * x4 +e  #hypothesis eq "
   ]
  },
  {
   "cell_type": "code",
   "execution_count": 107,
   "metadata": {},
   "outputs": [],
   "source": [
    "def error(a,x1,b,x2,c,x3,d,x4,e,y):\n",
    "    err=0     #holds the error value\n",
    "    m=len(x1)#how many data_pts r present\n",
    "    \n",
    "    for i in range(m):\n",
    "        err += np.power((hypothesis(a,x1[i],b,x2[i],c,x3[i],d,x4[i],e)-y[i]),2) #err=summation(h-y)2\n",
    "        \n",
    "    return (1/(2*m)) *err #loss fn"
   ]
  },
  {
   "cell_type": "code",
   "execution_count": 108,
   "metadata": {},
   "outputs": [],
   "source": [
    "def step_gradient(a,x1,b,x2,c,x3,d,x4,e,y,learning_rate):\n",
    "    grad_a=0\n",
    "    grad_b=0\n",
    "    grad_c=0\n",
    "    grad_d=0\n",
    "    grad_e=0\n",
    "    m= len(x1)\n",
    "    \n",
    "    for i in range(m):\n",
    "        grad_a += (1/m) * (hypothesis(a,x1[i],b,x2[i],c,x3[i],d,x4[i],e)-y[i])*x1[i] #differentaition wrt a\n",
    "        grad_b += (1/m) * (hypothesis(a,x1[i],b,x2[i],c,x3[i],d,x4[i],e)-y[i])*x2[i] #diff wrt b\n",
    "        grad_c += (1/m) * (hypothesis(a,x1[i],b,x2[i],c,x3[i],d,x4[i],e)-y[i])*x3[i] #differentaition wrt c\n",
    "        grad_d += (1/m) * (hypothesis(a,x1[i],b,x2[i],c,x3[i],d,x4[i],e)-y[i])*x4[i]#diff wrt d\n",
    "        grad_e += (1/m) * (hypothesis(a,x1[i],b,x2[i],c,x3[i],d,x4[i],e)-y[i]) #differentaition wrt e\n",
    "    \n",
    "    \n",
    "    a=a-grad_a*learning_rate\n",
    "    b=b-grad_b*learning_rate\n",
    "    c=c-grad_c*learning_rate\n",
    "    d=d-grad_d*learning_rate\n",
    "    e=e-grad_e*learning_rate\n",
    "\n",
    "    return a,b,c,d,e"
   ]
  },
  {
   "cell_type": "code",
   "execution_count": 109,
   "metadata": {},
   "outputs": [],
   "source": [
    "def descend(init_a,x1,init_b,x2,init_c,x3,init_d,x4,init_e,y,learning_rate,iteration):\n",
    "    a=init_a\n",
    "    b=init_b\n",
    "    c=init_c\n",
    "    d=init_d\n",
    "    e=init_e\n",
    "\n",
    "    \n",
    "    for i in range(iterations): #iterations--> hw many times we step\n",
    "        err=error(a,x1,b,x2,c,x3,d,x4,e,y)\n",
    "        \n",
    "        if i% 1000 == 0:\n",
    "            print(f\"Error: {np.sqrt(err)}, a: {a}, b:{b}, c:{c},d:{d},e:{e}\") #print error at every 1000 step\n",
    "            #sqrt of mean error\n",
    "            \n",
    "        a,b,c,d,e =step_gradient(a,x1,b,x2,c,x3,d,x4,e,y,learning_rate)\n",
    "        \n",
    "    return a,b,c,d,e"
   ]
  },
  {
   "cell_type": "code",
   "execution_count": 110,
   "metadata": {},
   "outputs": [],
   "source": [
    "a=0.06261540682422004\n",
    "b=0.022698851726899196\n",
    "c=0.11762137108556271\n",
    "d=0.2892492514520354\n",
    "e=0.05547298402158572\n",
    "learning_rate = 0.001\n",
    "iterations = 10000"
   ]
  },
  {
   "cell_type": "code",
   "execution_count": 111,
   "metadata": {},
   "outputs": [
    {
     "name": "stdout",
     "output_type": "stream",
     "text": [
      "Error: 0.07821676127564203, a: 0.06261540682422004, b:0.022698851726899196, c:0.11762137108556271,d:0.2892492514520354,e:0.05547298402158572\n",
      "Error: 0.07670349123975091, a: 0.06498100009870633, b:0.022761096158672854, c:0.12259095650383169,d:0.3029256075027036,e:0.05148425338429515\n",
      "Error: 0.07554796202333094, a: 0.06688437720998167, b:0.022617406610303304, c:0.1267753906626323,d:0.31435435626403707,e:0.04660063922542786\n",
      "Error: 0.0746425387737905, a: 0.06873168432096423, b:0.0225001187620588, c:0.13066886360888536,d:0.3240671391372678,e:0.04181920181574559\n",
      "Error: 0.07392694918869024, a: 0.07060414882045811, b:0.02244998833479123, c:0.13437432524458834,d:0.3323623460176208,e:0.03733370791151513\n",
      "Error: 0.07335646596819825, a: 0.0725111916418748, b:0.02246624118840251, c:0.1379096809592504,d:0.33945917969648237,e:0.03316061321320281\n",
      "Error: 0.07289726038331193, a: 0.07444728075622699, b:0.022540160861631266, c:0.14127619980707232,d:0.34553636679770416,e:0.029279658004268\n",
      "Error: 0.07252376535938133, a: 0.0764045757384189, b:0.02266245878634081, c:0.1444734261223765,d:0.35074426975110334,e:0.025665126012843036\n",
      "Error: 0.07221666540542739, a: 0.0783756318613565, b:0.0228247638573001, c:0.14750211845372746,d:0.3552104952236097,e:0.022292519261728146\n",
      "Error: 0.07196135189481613, a: 0.08035388438823748, b:0.023019811105856453, c:0.15036456190483258,d:0.35904360490071274,e:0.019139743644955295\n"
     ]
    }
   ],
   "source": [
    "final_a, final_b,final_c,final_d,final_e = descend(a,x1train,b,x2train,c,x3train,d,x4train,e,ytrain,learning_rate,iterations)"
   ]
  },
  {
   "cell_type": "code",
   "execution_count": 112,
   "metadata": {},
   "outputs": [
    {
     "data": {
      "text/plain": [
       "(0.08233365028769875,\n",
       " 0.02324135817527334,\n",
       " 0.1530643490561815,\n",
       " 0.36233603164221334,\n",
       " 0.016187101700729234)"
      ]
     },
     "execution_count": 112,
     "metadata": {},
     "output_type": "execute_result"
    }
   ],
   "source": [
    "final_a,final_b,final_c,final_d,final_e"
   ]
  },
  {
   "cell_type": "code",
   "execution_count": 113,
   "metadata": {},
   "outputs": [
    {
     "data": {
      "text/plain": [
       "array([0.18784446, 0.1151298 , 0.06022293])"
      ]
     },
     "execution_count": 113,
     "metadata": {},
     "output_type": "execute_result"
    }
   ],
   "source": [
    "ytest[:3]"
   ]
  },
  {
   "cell_type": "code",
   "execution_count": 114,
   "metadata": {},
   "outputs": [
    {
     "data": {
      "text/plain": [
       "array([0.06753211, 0.15272416, 0.09469732])"
      ]
     },
     "execution_count": 114,
     "metadata": {},
     "output_type": "execute_result"
    }
   ],
   "source": [
    "hypothesis(final_a,x1test[:3],final_b,x2test[:3],final_c,x3test[:3],final_d,x4test[:3],final_e)"
   ]
  },
  {
   "cell_type": "code",
   "execution_count": 115,
   "metadata": {},
   "outputs": [
    {
     "data": {
      "text/plain": [
       "0.0648276812792441"
      ]
     },
     "execution_count": 115,
     "metadata": {},
     "output_type": "execute_result"
    }
   ],
   "source": [
    "np.sqrt(error(final_a,x1test,final_b,x2test,final_c,x3test,final_d,x4test,final_e,ytest))#error for test values"
   ]
  },
  {
   "cell_type": "code",
   "execution_count": null,
   "metadata": {},
   "outputs": [],
   "source": []
  },
  {
   "cell_type": "code",
   "execution_count": null,
   "metadata": {},
   "outputs": [],
   "source": []
  }
 ],
 "metadata": {
  "kernelspec": {
   "display_name": "Python 3",
   "language": "python",
   "name": "python3"
  },
  "language_info": {
   "codemirror_mode": {
    "name": "ipython",
    "version": 3
   },
   "file_extension": ".py",
   "mimetype": "text/x-python",
   "name": "python",
   "nbconvert_exporter": "python",
   "pygments_lexer": "ipython3",
   "version": "3.7.1"
  }
 },
 "nbformat": 4,
 "nbformat_minor": 2
}
