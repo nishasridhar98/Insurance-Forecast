{
 "cells": [
  {
   "cell_type": "markdown",
   "metadata": {},
   "source": [
    "## To predict insurance costs by using Linear Regression implemented in Sklearn"
   ]
  },
  {
   "cell_type": "markdown",
   "metadata": {},
   "source": [
    "To make their own profits, the insurance company(insurer) must collect more premiums than the amount paid to the insured person.\n",
    "For this, the insurance company invests a lot of time and money in creating a model that accurately predicts health care costs."
   ]
  },
  {
   "cell_type": "code",
   "execution_count": 1,
   "metadata": {},
   "outputs": [],
   "source": [
    "import numpy as np\n",
    "import pandas as pd\n",
    "import matplotlib.pyplot as plt\n",
    "\n",
    "from sklearn.preprocessing import MinMaxScaler\n",
    "from sklearn.model_selection import train_test_split\n",
    "from sklearn import preprocessing\n",
    "\n",
    "from sklearn.linear_model import LinearRegression\n",
    "from sklearn.metrics import mean_squared_error,r2_score"
   ]
  },
  {
   "cell_type": "markdown",
   "metadata": {},
   "source": [
    "### Read the data from csv file"
   ]
  },
  {
   "cell_type": "code",
   "execution_count": 2,
   "metadata": {},
   "outputs": [],
   "source": [
    "data = pd.read_csv(\"insurance.csv\")"
   ]
  },
  {
   "cell_type": "code",
   "execution_count": 3,
   "metadata": {
    "scrolled": true
   },
   "outputs": [
    {
     "data": {
      "text/html": [
       "<div>\n",
       "<style scoped>\n",
       "    .dataframe tbody tr th:only-of-type {\n",
       "        vertical-align: middle;\n",
       "    }\n",
       "\n",
       "    .dataframe tbody tr th {\n",
       "        vertical-align: top;\n",
       "    }\n",
       "\n",
       "    .dataframe thead th {\n",
       "        text-align: right;\n",
       "    }\n",
       "</style>\n",
       "<table border=\"1\" class=\"dataframe\">\n",
       "  <thead>\n",
       "    <tr style=\"text-align: right;\">\n",
       "      <th></th>\n",
       "      <th>age</th>\n",
       "      <th>sex</th>\n",
       "      <th>bmi</th>\n",
       "      <th>children</th>\n",
       "      <th>smoker</th>\n",
       "      <th>region</th>\n",
       "      <th>charges</th>\n",
       "    </tr>\n",
       "  </thead>\n",
       "  <tbody>\n",
       "    <tr>\n",
       "      <th>0</th>\n",
       "      <td>19</td>\n",
       "      <td>female</td>\n",
       "      <td>27.900</td>\n",
       "      <td>0</td>\n",
       "      <td>yes</td>\n",
       "      <td>southwest</td>\n",
       "      <td>16884.92400</td>\n",
       "    </tr>\n",
       "    <tr>\n",
       "      <th>1</th>\n",
       "      <td>18</td>\n",
       "      <td>male</td>\n",
       "      <td>33.770</td>\n",
       "      <td>1</td>\n",
       "      <td>no</td>\n",
       "      <td>southeast</td>\n",
       "      <td>1725.55230</td>\n",
       "    </tr>\n",
       "    <tr>\n",
       "      <th>2</th>\n",
       "      <td>28</td>\n",
       "      <td>male</td>\n",
       "      <td>33.000</td>\n",
       "      <td>3</td>\n",
       "      <td>no</td>\n",
       "      <td>southeast</td>\n",
       "      <td>4449.46200</td>\n",
       "    </tr>\n",
       "    <tr>\n",
       "      <th>3</th>\n",
       "      <td>33</td>\n",
       "      <td>male</td>\n",
       "      <td>22.705</td>\n",
       "      <td>0</td>\n",
       "      <td>no</td>\n",
       "      <td>northwest</td>\n",
       "      <td>21984.47061</td>\n",
       "    </tr>\n",
       "    <tr>\n",
       "      <th>4</th>\n",
       "      <td>32</td>\n",
       "      <td>male</td>\n",
       "      <td>28.880</td>\n",
       "      <td>0</td>\n",
       "      <td>no</td>\n",
       "      <td>northwest</td>\n",
       "      <td>3866.85520</td>\n",
       "    </tr>\n",
       "  </tbody>\n",
       "</table>\n",
       "</div>"
      ],
      "text/plain": [
       "   age     sex     bmi  children smoker     region      charges\n",
       "0   19  female  27.900         0    yes  southwest  16884.92400\n",
       "1   18    male  33.770         1     no  southeast   1725.55230\n",
       "2   28    male  33.000         3     no  southeast   4449.46200\n",
       "3   33    male  22.705         0     no  northwest  21984.47061\n",
       "4   32    male  28.880         0     no  northwest   3866.85520"
      ]
     },
     "execution_count": 3,
     "metadata": {},
     "output_type": "execute_result"
    }
   ],
   "source": [
    "data.head()"
   ]
  },
  {
   "cell_type": "markdown",
   "metadata": {},
   "source": [
    "### To convert columns which have str to int, LabelEncoder is used"
   ]
  },
  {
   "cell_type": "code",
   "execution_count": 4,
   "metadata": {},
   "outputs": [],
   "source": [
    "le=preprocessing.LabelEncoder()"
   ]
  },
  {
   "cell_type": "code",
   "execution_count": 5,
   "metadata": {},
   "outputs": [],
   "source": [
    "le.fit(data['smoker'])\n",
    "data['smoker']=le.transform(data['smoker'])"
   ]
  },
  {
   "cell_type": "code",
   "execution_count": 6,
   "metadata": {},
   "outputs": [],
   "source": [
    "le.fit(data['sex'])\n",
    "data['sex']=le.transform(data['sex'])"
   ]
  },
  {
   "cell_type": "code",
   "execution_count": 7,
   "metadata": {},
   "outputs": [],
   "source": [
    "le.fit(data['region'])\n",
    "data['region']=le.transform(data['region'])"
   ]
  },
  {
   "cell_type": "code",
   "execution_count": 8,
   "metadata": {},
   "outputs": [
    {
     "data": {
      "text/html": [
       "<div>\n",
       "<style scoped>\n",
       "    .dataframe tbody tr th:only-of-type {\n",
       "        vertical-align: middle;\n",
       "    }\n",
       "\n",
       "    .dataframe tbody tr th {\n",
       "        vertical-align: top;\n",
       "    }\n",
       "\n",
       "    .dataframe thead th {\n",
       "        text-align: right;\n",
       "    }\n",
       "</style>\n",
       "<table border=\"1\" class=\"dataframe\">\n",
       "  <thead>\n",
       "    <tr style=\"text-align: right;\">\n",
       "      <th></th>\n",
       "      <th>age</th>\n",
       "      <th>sex</th>\n",
       "      <th>bmi</th>\n",
       "      <th>children</th>\n",
       "      <th>smoker</th>\n",
       "      <th>region</th>\n",
       "      <th>charges</th>\n",
       "    </tr>\n",
       "  </thead>\n",
       "  <tbody>\n",
       "    <tr>\n",
       "      <th>0</th>\n",
       "      <td>19</td>\n",
       "      <td>0</td>\n",
       "      <td>27.900</td>\n",
       "      <td>0</td>\n",
       "      <td>1</td>\n",
       "      <td>3</td>\n",
       "      <td>16884.92400</td>\n",
       "    </tr>\n",
       "    <tr>\n",
       "      <th>1</th>\n",
       "      <td>18</td>\n",
       "      <td>1</td>\n",
       "      <td>33.770</td>\n",
       "      <td>1</td>\n",
       "      <td>0</td>\n",
       "      <td>2</td>\n",
       "      <td>1725.55230</td>\n",
       "    </tr>\n",
       "    <tr>\n",
       "      <th>2</th>\n",
       "      <td>28</td>\n",
       "      <td>1</td>\n",
       "      <td>33.000</td>\n",
       "      <td>3</td>\n",
       "      <td>0</td>\n",
       "      <td>2</td>\n",
       "      <td>4449.46200</td>\n",
       "    </tr>\n",
       "    <tr>\n",
       "      <th>3</th>\n",
       "      <td>33</td>\n",
       "      <td>1</td>\n",
       "      <td>22.705</td>\n",
       "      <td>0</td>\n",
       "      <td>0</td>\n",
       "      <td>1</td>\n",
       "      <td>21984.47061</td>\n",
       "    </tr>\n",
       "    <tr>\n",
       "      <th>4</th>\n",
       "      <td>32</td>\n",
       "      <td>1</td>\n",
       "      <td>28.880</td>\n",
       "      <td>0</td>\n",
       "      <td>0</td>\n",
       "      <td>1</td>\n",
       "      <td>3866.85520</td>\n",
       "    </tr>\n",
       "  </tbody>\n",
       "</table>\n",
       "</div>"
      ],
      "text/plain": [
       "   age  sex     bmi  children  smoker  region      charges\n",
       "0   19    0  27.900         0       1       3  16884.92400\n",
       "1   18    1  33.770         1       0       2   1725.55230\n",
       "2   28    1  33.000         3       0       2   4449.46200\n",
       "3   33    1  22.705         0       0       1  21984.47061\n",
       "4   32    1  28.880         0       0       1   3866.85520"
      ]
     },
     "execution_count": 8,
     "metadata": {},
     "output_type": "execute_result"
    }
   ],
   "source": [
    "data.head()"
   ]
  },
  {
   "cell_type": "markdown",
   "metadata": {},
   "source": [
    "### Attribute Information:"
   ]
  },
  {
   "cell_type": "markdown",
   "metadata": {},
   "source": [
    "Body Mass Index (BMI): People with high BMI have a significantly higher rate of premium than people with normal BMI. The reason again being this can lead to various ailments such as heart problems, joint problems, diabetes, to name a few. People with higher BMI may even need specialized treatment, for normal procedures like pregnancy. Thereby making even simple process a little tedious and affects the premium rates.\n",
    "\n",
    "Gender:Women are more likely to visit doctors, take prescriptions, and be subject to chronic diseases.\n",
    "\n",
    "Age: Most young individuals have premiums at much lower rates since they have fewer identified and unidentified diseases than older individuals. Young policyholders are less likely to have health problems and are more likely not to visit a doctor.\n",
    "\n",
    "Smoking: Smoking is a heavyweight negative when it comes to life insurance premiums. Smoking is closely linked to cardio vascular disease and to numerous forms of cancer.\n",
    "\n",
    "Region:that shared climate, lack of healthy food options, cultural aversion to exercise etc. "
   ]
  },
  {
   "cell_type": "code",
   "execution_count": 9,
   "metadata": {},
   "outputs": [],
   "source": [
    "# x=np.array(data['region'],dtype='float')\n",
    "# y=np.array(data['charges'])\n",
    "# x=x.reshape(-1,1)\n",
    "# y=y.reshape(-1,1)"
   ]
  },
  {
   "cell_type": "markdown",
   "metadata": {},
   "source": [
    "By considering bmi alone, error is 0.184\n",
    "\n",
    "By considering age alone, error is 0.178\n",
    "\n",
    "By considering smoker alone, error is 0.12\n",
    "\n",
    "By considering sex alone, error is 0.19\n",
    "\n",
    "By considering children alone, error is 0.19\n",
    "\n",
    "By considering region alone, error is 0.178\n",
    "\n",
    "As the error is more, by considering single feature,hence multiple features are considered"
   ]
  },
  {
   "cell_type": "markdown",
   "metadata": {},
   "source": [
    "### Using 3 features--> bmi,age,smoker as numpy array"
   ]
  },
  {
   "cell_type": "code",
   "execution_count": 10,
   "metadata": {},
   "outputs": [],
   "source": [
    "x = np.array(data[['bmi','age','smoker']])\n",
    "y = np.array(data['charges'])"
   ]
  },
  {
   "cell_type": "markdown",
   "metadata": {},
   "source": [
    "### Backward Elimination for feature selection\n",
    "Considering all the features,the Root mean squared error(rmse) is 0.099%\n",
    "\n",
    "By removing region,rmse is 0.099,hence region doesnt impact\n",
    "\n",
    "By remoing sex,rmse is 0.101,hence sex impacts\n",
    "\n",
    "By removing smoker,rmse is 0.18,hence smoker impacts\n",
    "\n",
    "By removing age,rmse was increased to 0.116, hence age impacts\n",
    "\n",
    "By removing children,error was 0.095,it also doesnt impact as rmse is decreased\n",
    "\n",
    "by removing bmi,rmse was 0.104, hence it impacts\n",
    "\n",
    "When we consider bmi,age,smoker; the error obtained is 0.09 ,if we consider sex,the error obtained is 0.099%, hence sex is not considered"
   ]
  },
  {
   "cell_type": "markdown",
   "metadata": {},
   "source": [
    "### To convert y into 2-D array"
   ]
  },
  {
   "cell_type": "code",
   "execution_count": 11,
   "metadata": {},
   "outputs": [],
   "source": [
    "y=y.reshape(-1,1)"
   ]
  },
  {
   "cell_type": "markdown",
   "metadata": {},
   "source": [
    "### Normalize the array"
   ]
  },
  {
   "cell_type": "code",
   "execution_count": 12,
   "metadata": {},
   "outputs": [],
   "source": [
    "scaler=MinMaxScaler()"
   ]
  },
  {
   "cell_type": "code",
   "execution_count": 13,
   "metadata": {},
   "outputs": [],
   "source": [
    "X=scaler.fit_transform(x)\n",
    "Y=scaler.fit_transform(y)"
   ]
  },
  {
   "cell_type": "markdown",
   "metadata": {},
   "source": [
    "### Spliting the data as train and test"
   ]
  },
  {
   "cell_type": "code",
   "execution_count": 22,
   "metadata": {},
   "outputs": [],
   "source": [
    "xtrain,xtest,ytrain,ytest=train_test_split(X,Y,test_size=0.2)"
   ]
  },
  {
   "cell_type": "markdown",
   "metadata": {},
   "source": [
    "### Using LinearRegression model of SKlearn"
   ]
  },
  {
   "cell_type": "code",
   "execution_count": 23,
   "metadata": {},
   "outputs": [],
   "source": [
    "regressor = LinearRegression()"
   ]
  },
  {
   "cell_type": "markdown",
   "metadata": {},
   "source": [
    "### Train the model"
   ]
  },
  {
   "cell_type": "code",
   "execution_count": 24,
   "metadata": {},
   "outputs": [
    {
     "data": {
      "text/plain": [
       "LinearRegression(copy_X=True, fit_intercept=True, n_jobs=None,\n",
       "         normalize=False)"
      ]
     },
     "execution_count": 24,
     "metadata": {},
     "output_type": "execute_result"
    }
   ],
   "source": [
    "regressor.fit(xtrain,ytrain)"
   ]
  },
  {
   "cell_type": "markdown",
   "metadata": {},
   "source": [
    "### Predict the output for the test values"
   ]
  },
  {
   "cell_type": "code",
   "execution_count": 25,
   "metadata": {},
   "outputs": [],
   "source": [
    "y_pred =regressor.predict(xtest)"
   ]
  },
  {
   "cell_type": "code",
   "execution_count": 26,
   "metadata": {},
   "outputs": [
    {
     "data": {
      "text/plain": [
       "array([[ 0.1712021 ],\n",
       "       [ 0.19431612],\n",
       "       [ 0.16737912],\n",
       "       [ 0.13083191],\n",
       "       [ 0.50784548],\n",
       "       [ 0.04948993],\n",
       "       [ 0.11478121],\n",
       "       [ 0.02530271],\n",
       "       [ 0.48421319],\n",
       "       [ 0.13027298],\n",
       "       [ 0.18460086],\n",
       "       [ 0.17725259],\n",
       "       [ 0.16175682],\n",
       "       [ 0.0838029 ],\n",
       "       [ 0.50929722],\n",
       "       [-0.00644888],\n",
       "       [ 0.42541083],\n",
       "       [ 0.13674541],\n",
       "       [ 0.46803847],\n",
       "       [ 0.41629991],\n",
       "       [ 0.06860482],\n",
       "       [ 0.15834257],\n",
       "       [ 0.15205054],\n",
       "       [ 0.18916293],\n",
       "       [ 0.4957188 ],\n",
       "       [ 0.20408678],\n",
       "       [ 0.15761246],\n",
       "       [ 0.12215543],\n",
       "       [ 0.12427789],\n",
       "       [ 0.02847891],\n",
       "       [ 0.07653822],\n",
       "       [ 0.1582682 ],\n",
       "       [ 0.08056256],\n",
       "       [ 0.44075014],\n",
       "       [ 0.04410518],\n",
       "       [ 0.10540928],\n",
       "       [ 0.03482709],\n",
       "       [ 0.03472004],\n",
       "       [ 0.21339482],\n",
       "       [ 0.42350046],\n",
       "       [-0.02458737],\n",
       "       [ 0.06904622],\n",
       "       [ 0.49926755],\n",
       "       [ 0.17185336],\n",
       "       [ 0.07544131],\n",
       "       [ 0.08662578],\n",
       "       [ 0.11597019],\n",
       "       [ 0.16152351],\n",
       "       [ 0.45629507],\n",
       "       [ 0.57838427],\n",
       "       [ 0.0794916 ],\n",
       "       [ 0.11301856],\n",
       "       [ 0.37504516],\n",
       "       [ 0.11674771],\n",
       "       [ 0.04991812],\n",
       "       [ 0.47720952],\n",
       "       [ 0.18099646],\n",
       "       [ 0.19790579],\n",
       "       [ 0.04727091],\n",
       "       [ 0.16840268],\n",
       "       [ 0.52875769],\n",
       "       [ 0.18145684],\n",
       "       [ 0.08486937],\n",
       "       [ 0.63575361],\n",
       "       [ 0.07974237],\n",
       "       [ 0.08512438],\n",
       "       [ 0.50287195],\n",
       "       [ 0.17253656],\n",
       "       [ 0.08140821],\n",
       "       [ 0.16315141],\n",
       "       [ 0.03501772],\n",
       "       [ 0.51251235],\n",
       "       [ 0.15806435],\n",
       "       [ 0.15836203],\n",
       "       [ 0.14097312],\n",
       "       [ 0.01964846],\n",
       "       [ 0.15444698],\n",
       "       [ 0.17253656],\n",
       "       [ 0.110286  ],\n",
       "       [ 0.05150286],\n",
       "       [ 0.44366934],\n",
       "       [ 0.16939254],\n",
       "       [ 0.12766195],\n",
       "       [ 0.04205807],\n",
       "       [ 0.1620051 ],\n",
       "       [ 0.09498736],\n",
       "       [ 0.54606677],\n",
       "       [ 0.16578141],\n",
       "       [ 0.10488429],\n",
       "       [ 0.06768831],\n",
       "       [ 0.5267807 ],\n",
       "       [ 0.49172864],\n",
       "       [ 0.03402611],\n",
       "       [ 0.24714261],\n",
       "       [ 0.00352763],\n",
       "       [ 0.21385944],\n",
       "       [ 0.1641383 ],\n",
       "       [ 0.14016366],\n",
       "       [ 0.40380045],\n",
       "       [ 0.3805689 ],\n",
       "       [ 0.06781881],\n",
       "       [ 0.10871399],\n",
       "       [ 0.06382441],\n",
       "       [ 0.11282617],\n",
       "       [ 0.120273  ],\n",
       "       [ 0.21400716],\n",
       "       [ 0.10122624],\n",
       "       [ 0.10044248],\n",
       "       [ 0.1770899 ],\n",
       "       [ 0.07538991],\n",
       "       [ 0.13483929],\n",
       "       [ 0.52127642],\n",
       "       [ 0.06521227],\n",
       "       [ 0.52217123],\n",
       "       [ 0.05460196],\n",
       "       [ 0.20666762],\n",
       "       [ 0.03480363],\n",
       "       [ 0.07113001],\n",
       "       [ 0.25838023],\n",
       "       [ 0.02804199],\n",
       "       [ 0.07510295],\n",
       "       [ 0.08633658],\n",
       "       [ 0.10613515],\n",
       "       [ 0.13258607],\n",
       "       [ 0.13912688],\n",
       "       [ 0.10658505],\n",
       "       [ 0.17941997],\n",
       "       [ 0.43016353],\n",
       "       [ 0.06494902],\n",
       "       [ 0.62217494],\n",
       "       [ 0.16553289],\n",
       "       [ 0.19022316],\n",
       "       [ 0.0578383 ],\n",
       "       [ 0.46487099],\n",
       "       [ 0.17811545],\n",
       "       [ 0.2016322 ],\n",
       "       [ 0.11834518],\n",
       "       [ 0.09097375],\n",
       "       [ 0.25809976],\n",
       "       [ 0.56524876],\n",
       "       [ 0.21914114],\n",
       "       [ 0.0941779 ],\n",
       "       [ 0.07848701],\n",
       "       [ 0.54850437],\n",
       "       [ 0.0842443 ],\n",
       "       [ 0.4520736 ],\n",
       "       [ 0.18020397],\n",
       "       [ 0.0602542 ],\n",
       "       [ 0.40897061],\n",
       "       [ 0.00913671],\n",
       "       [ 0.07346457],\n",
       "       [ 0.11371074],\n",
       "       [ 0.14591646],\n",
       "       [ 0.15443201],\n",
       "       [ 0.11508338],\n",
       "       [ 0.06120963],\n",
       "       [ 0.05150286],\n",
       "       [ 0.18443368],\n",
       "       [ 0.11751226],\n",
       "       [ 0.11392483],\n",
       "       [ 0.18415345],\n",
       "       [ 0.06966505],\n",
       "       [ 0.5724261 ],\n",
       "       [ 0.10984684],\n",
       "       [ 0.11974601],\n",
       "       [ 0.09558273],\n",
       "       [-0.01039612],\n",
       "       [ 0.15942251],\n",
       "       [ 0.09468968],\n",
       "       [ 0.5345851 ],\n",
       "       [ 0.11210005],\n",
       "       [ 0.54525131],\n",
       "       [ 0.10268048],\n",
       "       [ 0.12735802],\n",
       "       [ 0.22302849],\n",
       "       [ 0.12993213],\n",
       "       [ 0.17077391],\n",
       "       [ 0.15529536],\n",
       "       [ 0.12252397],\n",
       "       [ 0.0351849 ],\n",
       "       [ 0.14230509],\n",
       "       [ 0.09870329],\n",
       "       [ 0.03957979],\n",
       "       [ 0.02847891],\n",
       "       [ 0.26122881],\n",
       "       [ 0.16398433],\n",
       "       [ 0.49306061],\n",
       "       [ 0.12922996],\n",
       "       [ 0.12197552],\n",
       "       [ 0.060098  ],\n",
       "       [ 0.16396088],\n",
       "       [ 0.03558963],\n",
       "       [ 0.44129411],\n",
       "       [ 0.11642657],\n",
       "       [ 0.15183196],\n",
       "       [ 0.22151437],\n",
       "       [ 0.09536439],\n",
       "       [ 0.5793654 ],\n",
       "       [ 0.12832169],\n",
       "       [ 0.14771329],\n",
       "       [ 0.17791233],\n",
       "       [ 0.1308898 ],\n",
       "       [ 0.13915034],\n",
       "       [ 0.48024649],\n",
       "       [ 0.23829494],\n",
       "       [ 0.00823518],\n",
       "       [ 0.07110655],\n",
       "       [ 0.07159488],\n",
       "       [ 0.22419153],\n",
       "       [ 0.15603396],\n",
       "       [ 0.58501115],\n",
       "       [ 0.05034007],\n",
       "       [ 0.11379433],\n",
       "       [ 0.38881022],\n",
       "       [ 0.14784404],\n",
       "       [ 0.21705735],\n",
       "       [ 0.13154106],\n",
       "       [ 0.16312747],\n",
       "       [ 0.09114093],\n",
       "       [ 0.04136589],\n",
       "       [ 0.14346837],\n",
       "       [ 0.19334372],\n",
       "       [ 0.11691489],\n",
       "       [ 0.03996106],\n",
       "       [ 0.06912981],\n",
       "       [ 0.03491067],\n",
       "       [ 0.04053297],\n",
       "       [ 0.57811453],\n",
       "       [ 0.58072331],\n",
       "       [ 0.40588648],\n",
       "       [ 0.20771063],\n",
       "       [ 0.18109902],\n",
       "       [ 0.23676336],\n",
       "       [ 0.02860742],\n",
       "       [ 0.47311232],\n",
       "       [ 0.16822077],\n",
       "       [ 0.55654482],\n",
       "       [ 0.14209348],\n",
       "       [ 0.49036824],\n",
       "       [ 0.11984481],\n",
       "       [ 0.03482709],\n",
       "       [ 0.0602542 ],\n",
       "       [ 0.17458367],\n",
       "       [ 0.0825927 ],\n",
       "       [ 0.19011162],\n",
       "       [ 0.05316919],\n",
       "       [ 0.45878583],\n",
       "       [ 0.28974855],\n",
       "       [ 0.03499426],\n",
       "       [-0.01581905],\n",
       "       [ 0.13052774],\n",
       "       [ 0.48129799],\n",
       "       [ 0.02376064],\n",
       "       [ 0.14000969],\n",
       "       [ 0.61991325],\n",
       "       [ 0.48119968],\n",
       "       [ 0.23652581],\n",
       "       [ 0.40792759],\n",
       "       [ 0.42215976],\n",
       "       [ 0.10926445],\n",
       "       [ 0.22063604],\n",
       "       [ 0.16390074],\n",
       "       [ 0.04670099],\n",
       "       [ 0.22618548],\n",
       "       [ 0.40808205],\n",
       "       [ 0.00425351],\n",
       "       [ 0.46375936],\n",
       "       [ 0.18334999]])"
      ]
     },
     "execution_count": 26,
     "metadata": {},
     "output_type": "execute_result"
    }
   ],
   "source": [
    "y_pred"
   ]
  },
  {
   "cell_type": "code",
   "execution_count": 27,
   "metadata": {},
   "outputs": [],
   "source": [
    "# for i in zip(y_pred,ytest):\n",
    "#     print(i)"
   ]
  },
  {
   "cell_type": "code",
   "execution_count": 28,
   "metadata": {},
   "outputs": [
    {
     "data": {
      "text/plain": [
       "0.08729296812698925"
      ]
     },
     "execution_count": 28,
     "metadata": {},
     "output_type": "execute_result"
    }
   ],
   "source": [
    "np.sqrt(mean_squared_error(ytest,y_pred))"
   ]
  },
  {
   "cell_type": "markdown",
   "metadata": {},
   "source": [
    "### RMSE is 0.087"
   ]
  },
  {
   "cell_type": "code",
   "execution_count": 29,
   "metadata": {},
   "outputs": [
    {
     "data": {
      "text/plain": [
       "0.7563289698461266"
      ]
     },
     "execution_count": 29,
     "metadata": {},
     "output_type": "execute_result"
    }
   ],
   "source": [
    "r2_score(ytest,y_pred)"
   ]
  },
  {
   "cell_type": "markdown",
   "metadata": {},
   "source": [
    "### R2 score gives the best possible fit\n",
    "(hw much dataset is fit by the model)"
   ]
  },
  {
   "cell_type": "code",
   "execution_count": null,
   "metadata": {},
   "outputs": [],
   "source": []
  }
 ],
 "metadata": {
  "kernelspec": {
   "display_name": "Python 3",
   "language": "python",
   "name": "python3"
  },
  "language_info": {
   "codemirror_mode": {
    "name": "ipython",
    "version": 3
   },
   "file_extension": ".py",
   "mimetype": "text/x-python",
   "name": "python",
   "nbconvert_exporter": "python",
   "pygments_lexer": "ipython3",
   "version": "3.6.8"
  }
 },
 "nbformat": 4,
 "nbformat_minor": 2
}
